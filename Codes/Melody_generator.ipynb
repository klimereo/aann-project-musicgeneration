{
  "nbformat": 4,
  "nbformat_minor": 0,
  "metadata": {
    "colab": {
      "provenance": []
    },
    "kernelspec": {
      "name": "python3",
      "display_name": "Python 3"
    },
    "language_info": {
      "name": "python"
    }
  },
  "cells": [
    {
      "cell_type": "markdown",
      "source": [
        "# Melody Generator\n",
        "\n",
        "This notebook generates a melody once you load a model and the dataset (pitchbased_notes). The latter is used to reproduce X_seed which functions as a novel prompt to the model."
      ],
      "metadata": {
        "id": "MZ9UnYZ5OaqU"
      }
    },
    {
      "cell_type": "code",
      "execution_count": 1,
      "metadata": {
        "colab": {
          "base_uri": "https://localhost:8080/"
        },
        "id": "lspK03EFqMNW",
        "outputId": "8d0f34e6-9c8f-4e27-851a-939c06b943ca"
      },
      "outputs": [
        {
          "output_type": "stream",
          "name": "stdout",
          "text": [
            "Looking in indexes: https://pypi.org/simple, https://us-python.pkg.dev/colab-wheels/public/simple/\n",
            "Requirement already satisfied: music21 in /usr/local/lib/python3.8/dist-packages (5.5.0)\n"
          ]
        }
      ],
      "source": [
        "!pip install music21"
      ]
    },
    {
      "cell_type": "code",
      "source": [
        "import pickle\n",
        "import pandas as pd\n",
        "import numpy as np\n",
        "from collections import Counter\n",
        "from sklearn.model_selection import train_test_split\n",
        "from keras.models import load_model\n",
        "from tensorflow.keras.utils import to_categorical\n",
        "import music21\n",
        "from music21 import *"
      ],
      "metadata": {
        "id": "Ekm02maWqPH2"
      },
      "execution_count": 2,
      "outputs": []
    },
    {
      "cell_type": "code",
      "source": [
        "def sequence_splitterv1(integer_encoded_sequence, window_size):\n",
        "    network_input = []\n",
        "    network_output = []\n",
        "    n_vocab = len(set(integer_encoded_sequence))\n",
        "\n",
        "    for i in range(0, len(integer_encoded_sequence) - window_size, 1):\n",
        "        sequence_in = integer_encoded_sequence[i:i + window_size]\n",
        "        sequence_out = integer_encoded_sequence[i + window_size]\n",
        "        network_input.append(sequence_in)\n",
        "        network_output.append(sequence_out)\n",
        "\n",
        "    n_patterns = len(network_input)\n",
        "    \n",
        "    network_input = np.reshape(network_input, (n_patterns, window_size, 1))\n",
        "    \n",
        "    # normalize input\n",
        "    network_input = network_input / float(n_vocab)\n",
        "    network_output = to_categorical(network_output)\n",
        "    \n",
        "    return network_input, network_output"
      ],
      "metadata": {
        "id": "JqCzdgx3qSpA"
      },
      "execution_count": 3,
      "outputs": []
    },
    {
      "cell_type": "code",
      "source": [
        "def sequence_splitterv2(notes, window_size):\n",
        "    features = []\n",
        "    targets = []\n",
        "    \n",
        "    for i in range(0, len(notes) - window_size, 1):\n",
        "        feature = notes[i:i + window_size]\n",
        "        target = notes[i + window_size]\n",
        "        features.append([mapping[j] for j in feature])\n",
        "        targets.append(mapping[target])\n",
        "        \n",
        "    \n",
        "    return features, targets"
      ],
      "metadata": {
        "id": "S66Jx78-qUYB"
      },
      "execution_count": 4,
      "outputs": []
    },
    {
      "cell_type": "code",
      "source": [
        "with open('/content/pitchbased_notes', 'rb') as f:\n",
        "    pitchbased_notes = pickle.load(f)"
      ],
      "metadata": {
        "id": "vZvIczAvqWSs"
      },
      "execution_count": 23,
      "outputs": []
    },
    {
      "cell_type": "code",
      "source": [
        "token_size = len(pitchbased_notes)\n",
        "type_size = len(set(pitchbased_notes))\n",
        "print(f'Total number of notes: {token_size}')\n",
        "print(f'Total number of distinct notes: {type_size}')"
      ],
      "metadata": {
        "colab": {
          "base_uri": "https://localhost:8080/"
        },
        "id": "upepMwE4qYJX",
        "outputId": "9dc2596e-c780-4a84-f6cc-63a44a0e3477"
      },
      "execution_count": 24,
      "outputs": [
        {
          "output_type": "stream",
          "name": "stdout",
          "text": [
            "Total number of notes: 48686\n",
            "Total number of distinct notes: 331\n"
          ]
        }
      ]
    },
    {
      "cell_type": "code",
      "source": [
        "rare_note = []\n",
        "for index, (key, value) in enumerate(Counter(pitchbased_notes).items()):\n",
        "    if value < 20:\n",
        "        m =  key\n",
        "        rare_note.append(m)\n",
        "        \n",
        "print(f'Total number of notes that occur less than 40 times: {len(rare_note)}')\n",
        "    \n",
        "for element in pitchbased_notes:\n",
        "    if element in rare_note:\n",
        "        pitchbased_notes.remove(element)\n",
        "\n",
        "print(f'Number of notes after cleaning: {len(pitchbased_notes)}')"
      ],
      "metadata": {
        "colab": {
          "base_uri": "https://localhost:8080/"
        },
        "id": "b6_VC88T7opP",
        "outputId": "65ce540b-d97e-4e86-ffc3-2eda24a00035"
      },
      "execution_count": 25,
      "outputs": [
        {
          "output_type": "stream",
          "name": "stdout",
          "text": [
            "Total number of notes that occur less than 40 times: 161\n",
            "Number of notes after cleaning: 48086\n"
          ]
        }
      ]
    },
    {
      "cell_type": "code",
      "source": [
        "unique_notes = sorted(list(set(pitchbased_notes)))\n",
        "\n",
        "#Building dictionary to access the vocabulary from indices and vice versa\n",
        "mapping = dict((c, i) for i, c in enumerate(unique_notes))\n",
        "reverse_mapping = dict((i, c) for i, c in enumerate(unique_notes))"
      ],
      "metadata": {
        "id": "o7Z16gFkqaAZ"
      },
      "execution_count": 26,
      "outputs": []
    },
    {
      "cell_type": "code",
      "source": [
        "window_size = 80\n",
        "\n",
        "features, targets = sequence_splitterv2(pitchbased_notes, window_size)"
      ],
      "metadata": {
        "id": "AztF4Alqqbzh"
      },
      "execution_count": 27,
      "outputs": []
    },
    {
      "cell_type": "code",
      "source": [
        "targets_length = len(targets)\n",
        "print(\"Total number of sequences in the dataset:\", targets_length)"
      ],
      "metadata": {
        "colab": {
          "base_uri": "https://localhost:8080/"
        },
        "id": "ZzgBV_HYqdgY",
        "outputId": "34ddd96f-6342-49df-d00b-b6eea94f84dc"
      },
      "execution_count": 28,
      "outputs": [
        {
          "output_type": "stream",
          "name": "stdout",
          "text": [
            "Total number of sequences in the dataset: 48006\n"
          ]
        }
      ]
    },
    {
      "cell_type": "code",
      "source": [
        "# reshape X and normalize\n",
        "X = (np.reshape(features, (targets_length, window_size, 1)))/ float(type_size)\n",
        "# one hot encode the output variable\n",
        "y = to_categorical(targets) "
      ],
      "metadata": {
        "id": "ufW6eDLKqfuO"
      },
      "execution_count": 29,
      "outputs": []
    },
    {
      "cell_type": "code",
      "source": [
        "X_train, X_seed, y_train, y_seed = train_test_split(X, y, test_size=0.2, random_state=16)"
      ],
      "metadata": {
        "id": "HWPHeKjGqfk9"
      },
      "execution_count": 30,
      "outputs": []
    },
    {
      "cell_type": "code",
      "source": [
        "def chords_n_notes(Snippet):\n",
        "    Melody = []\n",
        "    offset = 0 #Incremental\n",
        "    for i in Snippet:\n",
        "        #If it is chord\n",
        "        if (\".\" in i or i.isdigit()):\n",
        "            chord_notes = i.split(\".\") #Seperating the notes in chord\n",
        "            notes = [] \n",
        "            for j in chord_notes:\n",
        "                inst_note=int(j)\n",
        "                note_snip = note.Note(inst_note)            \n",
        "                notes.append(note_snip)\n",
        "                chord_snip = chord.Chord(notes)\n",
        "                chord_snip.offset = offset\n",
        "                Melody.append(chord_snip)\n",
        "        # pattern is a note\n",
        "        else: \n",
        "            note_snip = note.Note(i)\n",
        "            note_snip.offset = offset\n",
        "            Melody.append(note_snip)\n",
        "        # increase offset each iteration so that notes do not stack\n",
        "        offset += 1\n",
        "    Melody_midi = stream.Stream(Melody)   \n",
        "    return Melody_midi"
      ],
      "metadata": {
        "id": "DlK-Ou5jqxnC"
      },
      "execution_count": 31,
      "outputs": []
    },
    {
      "cell_type": "code",
      "source": [
        "def generate_melody(model, Note_Count):\n",
        "    seed = X_seed[np.random.randint(0,len(X_seed)-1)]\n",
        "    Music = \"\"\n",
        "    Notes_Generated=[]\n",
        "    for i in range(Note_Count):\n",
        "        seed = seed.reshape(1,window_size,1)\n",
        "        prediction = model.predict(seed, verbose=0)[0]\n",
        "        prediction = np.log(prediction) / 1.0 #diversity\n",
        "        exp_preds = np.exp(prediction)\n",
        "        prediction = exp_preds / np.sum(exp_preds)\n",
        "        index = np.argmax(prediction)\n",
        "        index_N = index/ float(type_size)   \n",
        "        Notes_Generated.append(index)\n",
        "        Music = [reverse_mapping[char] for char in Notes_Generated]\n",
        "        seed = np.insert(seed[0],len(seed[0]),index_N)\n",
        "        seed = seed[1:]\n",
        "    #Now, we have music in form or a list of chords and notes and we want to be a midi file.\n",
        "    Melody = chords_n_notes(Music)\n",
        "    Melody_midi = stream.Stream(Melody)   \n",
        "    return Music,Melody_midi"
      ],
      "metadata": {
        "id": "eM8M-Wqsqzp_"
      },
      "execution_count": 19,
      "outputs": []
    },
    {
      "cell_type": "code",
      "source": [
        "model_path = '/content/goldberg200e80w64b_adamax.h5'\n",
        "\n",
        "model = load_model(model_path)"
      ],
      "metadata": {
        "id": "1HCg2j0qq64Q"
      },
      "execution_count": 20,
      "outputs": []
    },
    {
      "cell_type": "code",
      "source": [
        "n_notes_to_generate = 100\n",
        "\n",
        "music_notes, melody = generate_melody(model, n_notes_to_generate)"
      ],
      "metadata": {
        "id": "x133lC3Aq2Ad"
      },
      "execution_count": null,
      "outputs": []
    },
    {
      "cell_type": "code",
      "source": [
        "#To save the generated melody\n",
        "melody.write('midi','gv1_melody2.mid')"
      ],
      "metadata": {
        "colab": {
          "base_uri": "https://localhost:8080/",
          "height": 35
        },
        "id": "DcL38g_yrprG",
        "outputId": "23bfe3ee-7782-4bec-8e3b-81972a6ac6df"
      },
      "execution_count": 35,
      "outputs": [
        {
          "output_type": "execute_result",
          "data": {
            "text/plain": [
              "'gv1_melody2.mid'"
            ],
            "application/vnd.google.colaboratory.intrinsic+json": {
              "type": "string"
            }
          },
          "metadata": {},
          "execution_count": 35
        }
      ]
    }
  ]
}